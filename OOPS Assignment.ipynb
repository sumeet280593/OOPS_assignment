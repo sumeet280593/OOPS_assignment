{
 "cells": [
  {
   "cell_type": "markdown",
   "id": "27ca8f4d",
   "metadata": {},
   "source": [
    "**Q1. What is the purpose of Python's OOP?**"
   ]
  },
  {
   "cell_type": "markdown",
   "id": "9880e19b",
   "metadata": {},
   "source": [
    "**Ans)** In Python, object-oriented Programming (OOPs) is a programming paradigm that uses objects and classes in programming. It aims to implement real-world entities like inheritance, polymorphisms, encapsulation, etc. in the programming."
   ]
  },
  {
   "cell_type": "markdown",
   "id": "abc3dbf2",
   "metadata": {},
   "source": [
    "**Q2. Where does an inheritance search look for an attribute?**"
   ]
  },
  {
   "cell_type": "markdown",
   "id": "a9ce7642",
   "metadata": {},
   "source": [
    "**Ans)** An inheritance search looks for an attribute first in the instance object, then in the class the instance was created from, then in all higher superclasses, progressing from left to right (by default). The search stops at the first place the attribute is found."
   ]
  },
  {
   "cell_type": "markdown",
   "id": "dfa17be2",
   "metadata": {},
   "source": [
    "**Q3. How do you distinguish between a class object and an instance object?**"
   ]
  },
  {
   "cell_type": "markdown",
   "id": "57cc6a69",
   "metadata": {},
   "source": [
    "**Ans)** A Class defines the structure, property, and behaviour of an Object. You can think of a Class as a blueprint.\n",
    "\n",
    "An Object is created from a Class, like a house is created from a blueprint.\n",
    "\n",
    "Instance − An individual object of a certain class."
   ]
  },
  {
   "cell_type": "markdown",
   "id": "ae85fd2e",
   "metadata": {},
   "source": [
    "**Q4. What makes the first argument in a class’s method function special?**"
   ]
  },
  {
   "cell_type": "markdown",
   "id": "2a12e858",
   "metadata": {},
   "source": [
    "**Ans)** Generally, when we call a method with some arguments, the corresponding class function is called by placing the method's object before the first argument. So, anything like **`obj.meth(args)`** becomes **`Class.meth(obj, args)`**. The calling process is automatic while the receiving process is not (its explicit).\n",
    "\n",
    "This is the reason the first parameter of a function in class must be the object itself."
   ]
  },
  {
   "cell_type": "markdown",
   "id": "b2be43c9",
   "metadata": {},
   "source": [
    "**Q5. What is the purpose of the init method?**"
   ]
  },
  {
   "cell_type": "markdown",
   "id": "9d95d9aa",
   "metadata": {},
   "source": [
    "**Q6. What is the process for creating a class instance?**"
   ]
  },
  {
   "cell_type": "markdown",
   "id": "83bb1953",
   "metadata": {},
   "source": [
    "**Q7. What is the process for creating a class?**"
   ]
  },
  {
   "cell_type": "markdown",
   "id": "d61e53ae",
   "metadata": {},
   "source": [
    "**Q8. How would you define the superclasses of a class?**"
   ]
  },
  {
   "cell_type": "markdown",
   "id": "74caef67",
   "metadata": {},
   "source": [
    "**Q9. What is the relationship between classes and modules?**"
   ]
  },
  {
   "cell_type": "markdown",
   "id": "5863f903",
   "metadata": {},
   "source": [
    "**Q10. How do you make instances and classes?**"
   ]
  },
  {
   "cell_type": "code",
   "execution_count": null,
   "id": "095e83b7",
   "metadata": {},
   "outputs": [],
   "source": []
  }
 ],
 "metadata": {
  "kernelspec": {
   "display_name": "Python 3 (ipykernel)",
   "language": "python",
   "name": "python3"
  },
  "language_info": {
   "codemirror_mode": {
    "name": "ipython",
    "version": 3
   },
   "file_extension": ".py",
   "mimetype": "text/x-python",
   "name": "python",
   "nbconvert_exporter": "python",
   "pygments_lexer": "ipython3",
   "version": "3.9.12"
  },
  "toc": {
   "base_numbering": 1,
   "nav_menu": {},
   "number_sections": true,
   "sideBar": true,
   "skip_h1_title": false,
   "title_cell": "Table of Contents",
   "title_sidebar": "Contents",
   "toc_cell": false,
   "toc_position": {},
   "toc_section_display": true,
   "toc_window_display": false
  }
 },
 "nbformat": 4,
 "nbformat_minor": 5
}
